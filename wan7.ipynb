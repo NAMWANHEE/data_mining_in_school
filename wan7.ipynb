{
 "cells": [
  {
   "cell_type": "code",
   "execution_count": null,
   "metadata": {},
   "outputs": [],
   "source": [
    "import numpy as np\n",
    "import matplotlib.pyplot as plt\n",
    "import pandas as pd\n",
    "from sklearn.datasets import load_iris\n",
    "\n",
    "iris = load_iris()\n",
    "a = pd.DataFrame(iris.data,columns=iris.feature_names)\n",
    "a['target'] = iris.target\n",
    "a['targetName'] = np.where(a['target'] ==0,\"setosa\",np.where(a['target'] == 1,\"versicolor\",\"virginica\"))\n",
    "print(a.head())\n",
    "\n",
    "plt.figure()\n",
    "one =a.iloc[:,:2][a.target ==0]\n",
    "two =a.iloc[:,:2][a.target ==1]\n",
    "three =a.iloc[:,:2][a.target ==2]\n",
    "plt.plot(one['sepal length (cm)'],one['sepal width (cm)'],'or',label='setosa')\n",
    "plt.plot(two['sepal length (cm)'],two['sepal width (cm)'],'xb',label='versicolor')\n",
    "plt.plot(three['sepal length (cm)'],three['sepal width (cm)'],'^g',label='virginica')\n",
    "plt.legend()\n",
    "plt.xlabel('sepal length')\n",
    "plt.ylabel(\"sepal width\")\n",
    "plt.figure()\n",
    "one1 =a.iloc[:,2:4][a.target ==0]\n",
    "two1 =a.iloc[:,2:4][a.target ==1]\n",
    "three1 =a.iloc[:,2:4][a.target ==2]\n",
    "plt.plot(one1['petal length (cm)'],one1['petal width (cm)'],'or',label='setosa')\n",
    "plt.plot(two1['petal length (cm)'],two1['petal width (cm)'],'xb',label='versicolor')\n",
    "plt.plot(three1['petal length (cm)'],three1['petal width (cm)'],'^g',label='virginica')\n",
    "plt.legend()\n",
    "plt.xlabel('petal length')\n",
    "plt.ylabel(\"petal width\")\n",
    "plt.show()"
   ]
  }
 ],
 "metadata": {
  "anaconda-cloud": {},
  "kernelspec": {
   "display_name": "Python 3",
   "language": "python",
   "name": "python3"
  },
  "language_info": {
   "codemirror_mode": {
    "name": "ipython",
    "version": 3
   },
   "file_extension": ".py",
   "mimetype": "text/x-python",
   "name": "python",
   "nbconvert_exporter": "python",
   "pygments_lexer": "ipython3",
   "version": "3.7.6"
  }
 },
 "nbformat": 4,
 "nbformat_minor": 4
}
